{
 "cells": [
  {
   "cell_type": "code",
   "execution_count": 16,
   "metadata": {},
   "outputs": [],
   "source": [
    "import urllib\n",
    "import json \n",
    "\n",
    "def retrieve_current_cryptocoin_price(coin):\n",
    "    current_price = None\n",
    "    if coin == 'eth':\n",
    "        coin_json = urllib.request.urlopen(\"https://data.messari.io/api/v1/assets/eth/metrics\").read().decode(\"utf-8\")\n",
    "    elif coin == 'btc':\n",
    "        coin_json = urllib.request.urlopen(\"https://data.messari.io/api/v1/assets/btc/metrics\").read().decode(\"utf-8\")\n",
    "    else:\n",
    "        coin_json = None\n",
    "    coin_json = json.loads(coin_json)\n",
    "    current_price = coin_json['data']['market_data']['price_usd']\n",
    "    return current_price"
   ]
  },
  {
   "cell_type": "code",
   "execution_count": 17,
   "metadata": {},
   "outputs": [],
   "source": [
    "d = retrieve_current_cryptocoin_price('eth')"
   ]
  },
  {
   "cell_type": "code",
   "execution_count": 18,
   "metadata": {},
   "outputs": [
    {
     "data": {
      "text/plain": [
       "1552.495023817471"
      ]
     },
     "execution_count": 18,
     "metadata": {},
     "output_type": "execute_result"
    }
   ],
   "source": [
    "d"
   ]
  },
  {
   "cell_type": "code",
   "execution_count": null,
   "metadata": {},
   "outputs": [],
   "source": []
  },
  {
   "cell_type": "code",
   "execution_count": null,
   "metadata": {},
   "outputs": [],
   "source": [
    "eth_json['data'].keys()"
   ]
  },
  {
   "cell_type": "code",
   "execution_count": null,
   "metadata": {},
   "outputs": [],
   "source": [
    "d = eth_json['data']\n",
    "# for tok in eth_json['data'].keys():\n",
    "#    print(tok,d[tok])\n",
    "d['market_data']['price_usd']   "
   ]
  },
  {
   "cell_type": "code",
   "execution_count": null,
   "metadata": {},
   "outputs": [],
   "source": [
    "\n"
   ]
  }
 ],
 "metadata": {
  "kernelspec": {
   "display_name": "Python 3",
   "language": "python",
   "name": "python3"
  },
  "language_info": {
   "codemirror_mode": {
    "name": "ipython",
    "version": 3
   },
   "file_extension": ".py",
   "mimetype": "text/x-python",
   "name": "python",
   "nbconvert_exporter": "python",
   "pygments_lexer": "ipython3",
   "version": "3.8.5"
  }
 },
 "nbformat": 4,
 "nbformat_minor": 4
}
