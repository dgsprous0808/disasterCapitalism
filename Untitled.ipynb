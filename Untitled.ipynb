{
 "cells": [
  {
   "cell_type": "code",
   "execution_count": 16,
   "metadata": {},
   "outputs": [
    {
     "name": "stdout",
     "output_type": "stream",
     "text": [
      "6163425f2c630fd89ae0c3b7a9fdbe52\n"
     ]
    }
   ],
   "source": [
    "import json \n",
    "import pandas as pd\n",
    "from urllib.request import urlopen\n",
    "from disCap import finmod as FM\n",
    "from disCap import disCap\n",
    "import matplotlib.pyplot as plt\n",
    "import numpy as np\n",
    "import pprint\n",
    "\n",
    "'''\n",
    "financialmodelingprep ask that the API key not be shared.  I keep mine in a json\n",
    "file.  The API key is available and free for use provided by registration at \n",
    "the site, it is to not be shared or left in git. \n",
    "'''\n",
    "#api_key = None\n",
    "#api_key = \"6163425f2c630fd89ae0c3b7a9fdbe52\"\n",
    "\n",
    "with open(r\"C:\\Users\\dgspr\\.ssh\\finmod_api_key.json\") as f:\n",
    "  api_key = json.load(f)['api_key']\n",
    "\n",
    "print(api_key)"
   ]
  },
  {
   "cell_type": "code",
   "execution_count": 14,
   "metadata": {},
   "outputs": [],
   "source": [
    "with open('data/new_investments.json') as f:\n",
    "  investments = json.load(f)\n"
   ]
  },
  {
   "cell_type": "code",
   "execution_count": 15,
   "metadata": {},
   "outputs": [
    {
     "name": "stdout",
     "output_type": "stream",
     "text": [
      "{'ABNB': [['2022.12.21', 5248.89, 61, 'IRA_4314', 'First Buy']],\n",
      " 'AMSL': [['2022.12.21', 10152.69, 18, 'IRA_4314', 'First Buy']],\n",
      " 'AMZN': [['2022.12.21', 3321.25, 39, 'IRA_4314', 'First Buy'],\n",
      "          ['2022.12.21', 1958.73, 23, 'IRA_4314', 'First Buy']],\n",
      " 'BHP': [['2022.12.21', 5290.55, 87, 'IRA_4314', 'First Buy']],\n",
      " 'BRK/B': [['2022.12.21', 45362.76, 152, 'IRA_4314', 'First Buy']],\n",
      " 'KRP': [['2022.12.21', 1591.87, 100, 'IRA_4314', 'First Buy'],\n",
      "         ['2022.12.21', 13245.07, 832, 'IRA_4314', 'First Buy'],\n",
      "         ['2023.06.20', 1881.5, 125, 'IRA_4314', 'Repurchase']],\n",
      " 'MELI': [['2022.12.21', 9772.27, 11, 'IRA_4314', 'First Buy']],\n",
      " 'NU': [['2022.12.21', 10057.79, 2578, 'IRA_4314', 'First Buy']],\n",
      " 'NVDA': [['2022.12.21', 5209.9, 32, 'IRA_4314', 'First Buy']],\n",
      " 'RIO': [['2022.12.21', 10058.08, 146, 'IRA_4314', 'First Buy']],\n",
      " 'SE': [['2022.12.21', 5240.92, 99, 'IRA_4314', 'First Buy']],\n",
      " 'SNOW': [['2022.12.21', 5264.02, 38, 'IRA_4314', 'First Buy']],\n",
      " 'SQM': [['2022.12.21', 10508.5, 125, 'IRA_4314', 'First Buy'],\n",
      "         ['2023.06.20', 2517.8, 35, 'IRA_4314', 'Repurchase']],\n",
      " 'TSM': [['2022.12.21', 5243.13, 69, 'IRA_4314', 'First Buy']]}\n"
     ]
    }
   ],
   "source": [
    "import pprint\n",
    "pprint.pprint(investments)"
   ]
  },
  {
   "cell_type": "code",
   "execution_count": 18,
   "metadata": {},
   "outputs": [
    {
     "ename": "AttributeError",
     "evalue": "module 'disCap.finmod' has no attribute 'investmentsAs2_df'",
     "output_type": "error",
     "traceback": [
      "\u001b[1;31m---------------------------------------------------------------------------\u001b[0m",
      "\u001b[1;31mAttributeError\u001b[0m                            Traceback (most recent call last)",
      "\u001b[1;32m<ipython-input-18-64ffde449893>\u001b[0m in \u001b[0;36m<module>\u001b[1;34m\u001b[0m\n\u001b[1;32m----> 1\u001b[1;33m \u001b[0mdf\u001b[0m \u001b[1;33m=\u001b[0m \u001b[0mFM\u001b[0m\u001b[1;33m.\u001b[0m\u001b[0minvestmentsAs2_df\u001b[0m\u001b[1;33m(\u001b[0m\u001b[0minvestments\u001b[0m\u001b[1;33m)\u001b[0m\u001b[1;33m\u001b[0m\u001b[1;33m\u001b[0m\u001b[0m\n\u001b[0m",
      "\u001b[1;31mAttributeError\u001b[0m: module 'disCap.finmod' has no attribute 'investmentsAs2_df'"
     ]
    }
   ],
   "source": [
    "df = FM.investmentsAs2_df(investments)"
   ]
  },
  {
   "cell_type": "code",
   "execution_count": null,
   "metadata": {},
   "outputs": [],
   "source": []
  }
 ],
 "metadata": {
  "kernelspec": {
   "display_name": "Python 3",
   "language": "python",
   "name": "python3"
  },
  "language_info": {
   "codemirror_mode": {
    "name": "ipython",
    "version": 3
   },
   "file_extension": ".py",
   "mimetype": "text/x-python",
   "name": "python",
   "nbconvert_exporter": "python",
   "pygments_lexer": "ipython3",
   "version": "3.8.5"
  }
 },
 "nbformat": 4,
 "nbformat_minor": 4
}
